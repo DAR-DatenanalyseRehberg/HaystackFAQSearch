{
  "cells": [
    {
      "cell_type": "markdown",
      "metadata": {
        "collapsed": false,
        "id": "x55ZxcAGfJhd"
      },
      "source": [
        "## Notes\n",
        "I have used Haystack`s awesome tutorial and amended their code to my needs. \n",
        "You can find the original Haystack code by Deepset here (https://github.com/deepset-ai/haystack/).\n",
        "\n"
      ]
    },
    {
      "cell_type": "code",
      "execution_count": 34,
      "metadata": {
        "id": "do5WupsQfJhU",
        "colab": {
          "base_uri": "https://localhost:8080/"
        },
        "outputId": "addaa661-7663-45e8-b4b0-5e41fd325b28"
      },
      "outputs": [
        {
          "output_type": "stream",
          "name": "stdout",
          "text": [
            "Looking in indexes: https://pypi.org/simple, https://us-python.pkg.dev/colab-wheels/public/simple/\n",
            "Requirement already satisfied: pip in /usr/local/lib/python3.7/dist-packages (22.1.1)\n",
            "\u001b[33mWARNING: Running pip as the 'root' user can result in broken permissions and conflicting behaviour with the system package manager. It is recommended to use a virtual environment instead: https://pip.pypa.io/warnings/venv\u001b[0m\u001b[33m\n",
            "\u001b[0mLooking in indexes: https://pypi.org/simple, https://us-python.pkg.dev/colab-wheels/public/simple/\n",
            "Collecting git+https://github.com/deepset-ai/haystack.git\n",
            "  Cloning https://github.com/deepset-ai/haystack.git to /tmp/pip-req-build-yf74ehys\n",
            "  Running command git clone --filter=blob:none --quiet https://github.com/deepset-ai/haystack.git /tmp/pip-req-build-yf74ehys\n",
            "  Resolved https://github.com/deepset-ai/haystack.git to commit b6986ea25d7bbd06158dcb9b2f2b9187266accff\n",
            "  Installing build dependencies ... \u001b[?25l\u001b[?25hdone\n",
            "  Getting requirements to build wheel ... \u001b[?25l\u001b[?25hdone\n",
            "  Preparing metadata (pyproject.toml) ... \u001b[?25l\u001b[?25hdone\n",
            "Requirement already satisfied: seqeval in /usr/local/lib/python3.7/dist-packages (from farm-haystack==1.4.1rc0) (1.2.2)\n",
            "Requirement already satisfied: quantulum3 in /usr/local/lib/python3.7/dist-packages (from farm-haystack==1.4.1rc0) (0.7.10)\n",
            "Requirement already satisfied: more-itertools in /usr/local/lib/python3.7/dist-packages (from farm-haystack==1.4.1rc0) (8.13.0)\n",
            "Requirement already satisfied: mlflow in /usr/local/lib/python3.7/dist-packages (from farm-haystack==1.4.1rc0) (1.26.0)\n",
            "Requirement already satisfied: azure-core<1.23 in /usr/local/lib/python3.7/dist-packages (from farm-haystack==1.4.1rc0) (1.22.1)\n",
            "Requirement already satisfied: pandas in /usr/local/lib/python3.7/dist-packages (from farm-haystack==1.4.1rc0) (1.3.5)\n",
            "Requirement already satisfied: langdetect in /usr/local/lib/python3.7/dist-packages (from farm-haystack==1.4.1rc0) (1.0.9)\n",
            "Requirement already satisfied: importlib-metadata in /usr/local/lib/python3.7/dist-packages (from farm-haystack==1.4.1rc0) (4.11.3)\n",
            "Requirement already satisfied: requests in /usr/local/lib/python3.7/dist-packages (from farm-haystack==1.4.1rc0) (2.23.0)\n",
            "Requirement already satisfied: azure-ai-formrecognizer==3.2.0b2 in /usr/local/lib/python3.7/dist-packages (from farm-haystack==1.4.1rc0) (3.2.0b2)\n",
            "Requirement already satisfied: elastic-apm in /usr/local/lib/python3.7/dist-packages (from farm-haystack==1.4.1rc0) (6.9.1)\n",
            "Requirement already satisfied: networkx in /usr/local/lib/python3.7/dist-packages (from farm-haystack==1.4.1rc0) (2.6.3)\n",
            "Requirement already satisfied: dill in /usr/local/lib/python3.7/dist-packages (from farm-haystack==1.4.1rc0) (0.3.5.1)\n",
            "Requirement already satisfied: pydantic in /usr/local/lib/python3.7/dist-packages (from farm-haystack==1.4.1rc0) (1.9.1)\n",
            "Requirement already satisfied: posthog in /usr/local/lib/python3.7/dist-packages (from farm-haystack==1.4.1rc0) (1.4.8)\n",
            "Requirement already satisfied: sentence-transformers>=2.2.0 in /usr/local/lib/python3.7/dist-packages (from farm-haystack==1.4.1rc0) (2.2.0)\n",
            "Requirement already satisfied: tika in /usr/local/lib/python3.7/dist-packages (from farm-haystack==1.4.1rc0) (1.24)\n",
            "Requirement already satisfied: scipy>=1.3.2 in /usr/local/lib/python3.7/dist-packages (from farm-haystack==1.4.1rc0) (1.4.1)\n",
            "Requirement already satisfied: nltk in /usr/local/lib/python3.7/dist-packages (from farm-haystack==1.4.1rc0) (3.2.5)\n",
            "Requirement already satisfied: torch<1.12,>1.9 in /usr/local/lib/python3.7/dist-packages (from farm-haystack==1.4.1rc0) (1.11.0+cu113)\n",
            "Requirement already satisfied: jsonschema in /usr/local/lib/python3.7/dist-packages (from farm-haystack==1.4.1rc0) (4.3.3)\n",
            "Requirement already satisfied: scikit-learn>=1.0.0 in /usr/local/lib/python3.7/dist-packages (from farm-haystack==1.4.1rc0) (1.0.2)\n",
            "Requirement already satisfied: transformers==4.19.2 in /usr/local/lib/python3.7/dist-packages (from farm-haystack==1.4.1rc0) (4.19.2)\n",
            "Requirement already satisfied: rapidfuzz in /usr/local/lib/python3.7/dist-packages (from farm-haystack==1.4.1rc0) (2.0.11)\n",
            "Requirement already satisfied: python-docx in /usr/local/lib/python3.7/dist-packages (from farm-haystack==1.4.1rc0) (0.8.11)\n",
            "Requirement already satisfied: elasticsearch<=7.10,>=7.7 in /usr/local/lib/python3.7/dist-packages (from farm-haystack==1.4.1rc0) (7.10.0)\n",
            "Requirement already satisfied: tqdm in /usr/local/lib/python3.7/dist-packages (from farm-haystack==1.4.1rc0) (4.64.0)\n",
            "Requirement already satisfied: mmh3 in /usr/local/lib/python3.7/dist-packages (from farm-haystack==1.4.1rc0) (3.0.0)\n",
            "Requirement already satisfied: azure-common~=1.1 in /usr/local/lib/python3.7/dist-packages (from azure-ai-formrecognizer==3.2.0b2->farm-haystack==1.4.1rc0) (1.1.28)\n",
            "Requirement already satisfied: msrest>=0.6.21 in /usr/local/lib/python3.7/dist-packages (from azure-ai-formrecognizer==3.2.0b2->farm-haystack==1.4.1rc0) (0.6.21)\n",
            "Requirement already satisfied: six>=1.11.0 in /usr/local/lib/python3.7/dist-packages (from azure-ai-formrecognizer==3.2.0b2->farm-haystack==1.4.1rc0) (1.15.0)\n",
            "Requirement already satisfied: regex!=2019.12.17 in /usr/local/lib/python3.7/dist-packages (from transformers==4.19.2->farm-haystack==1.4.1rc0) (2019.12.20)\n",
            "Requirement already satisfied: packaging>=20.0 in /usr/local/lib/python3.7/dist-packages (from transformers==4.19.2->farm-haystack==1.4.1rc0) (21.3)\n",
            "Requirement already satisfied: huggingface-hub<1.0,>=0.1.0 in /usr/local/lib/python3.7/dist-packages (from transformers==4.19.2->farm-haystack==1.4.1rc0) (0.7.0)\n",
            "Requirement already satisfied: tokenizers!=0.11.3,<0.13,>=0.11.1 in /usr/local/lib/python3.7/dist-packages (from transformers==4.19.2->farm-haystack==1.4.1rc0) (0.12.1)\n",
            "Requirement already satisfied: pyyaml>=5.1 in /usr/local/lib/python3.7/dist-packages (from transformers==4.19.2->farm-haystack==1.4.1rc0) (6.0)\n",
            "Requirement already satisfied: filelock in /usr/local/lib/python3.7/dist-packages (from transformers==4.19.2->farm-haystack==1.4.1rc0) (3.7.0)\n",
            "Requirement already satisfied: numpy>=1.17 in /usr/local/lib/python3.7/dist-packages (from transformers==4.19.2->farm-haystack==1.4.1rc0) (1.21.6)\n",
            "Requirement already satisfied: certifi in /usr/local/lib/python3.7/dist-packages (from elasticsearch<=7.10,>=7.7->farm-haystack==1.4.1rc0) (2022.5.18.1)\n",
            "Requirement already satisfied: urllib3<2,>=1.21.1 in /usr/local/lib/python3.7/dist-packages (from elasticsearch<=7.10,>=7.7->farm-haystack==1.4.1rc0) (1.24.3)\n",
            "Requirement already satisfied: idna<3,>=2.5 in /usr/local/lib/python3.7/dist-packages (from requests->farm-haystack==1.4.1rc0) (2.10)\n",
            "Requirement already satisfied: chardet<4,>=3.0.2 in /usr/local/lib/python3.7/dist-packages (from requests->farm-haystack==1.4.1rc0) (3.0.4)\n",
            "Requirement already satisfied: threadpoolctl>=2.0.0 in /usr/local/lib/python3.7/dist-packages (from scikit-learn>=1.0.0->farm-haystack==1.4.1rc0) (3.1.0)\n",
            "Requirement already satisfied: joblib>=0.11 in /usr/local/lib/python3.7/dist-packages (from scikit-learn>=1.0.0->farm-haystack==1.4.1rc0) (1.1.0)\n",
            "Requirement already satisfied: torchvision in /usr/local/lib/python3.7/dist-packages (from sentence-transformers>=2.2.0->farm-haystack==1.4.1rc0) (0.12.0+cu113)\n",
            "Requirement already satisfied: sentencepiece in /usr/local/lib/python3.7/dist-packages (from sentence-transformers>=2.2.0->farm-haystack==1.4.1rc0) (0.1.96)\n",
            "Requirement already satisfied: typing-extensions in /usr/local/lib/python3.7/dist-packages (from torch<1.12,>1.9->farm-haystack==1.4.1rc0) (4.2.0)\n",
            "Requirement already satisfied: zipp>=0.5 in /usr/local/lib/python3.7/dist-packages (from importlib-metadata->farm-haystack==1.4.1rc0) (3.8.0)\n",
            "Requirement already satisfied: importlib-resources>=1.4.0 in /usr/local/lib/python3.7/dist-packages (from jsonschema->farm-haystack==1.4.1rc0) (5.7.1)\n",
            "Requirement already satisfied: pyrsistent!=0.17.0,!=0.17.1,!=0.17.2,>=0.14.0 in /usr/local/lib/python3.7/dist-packages (from jsonschema->farm-haystack==1.4.1rc0) (0.18.1)\n",
            "Requirement already satisfied: attrs>=17.4.0 in /usr/local/lib/python3.7/dist-packages (from jsonschema->farm-haystack==1.4.1rc0) (21.4.0)\n",
            "Requirement already satisfied: cloudpickle in /usr/local/lib/python3.7/dist-packages (from mlflow->farm-haystack==1.4.1rc0) (1.3.0)\n",
            "Requirement already satisfied: protobuf>=3.7.0 in /usr/local/lib/python3.7/dist-packages (from mlflow->farm-haystack==1.4.1rc0) (3.17.3)\n",
            "Requirement already satisfied: entrypoints in /usr/local/lib/python3.7/dist-packages (from mlflow->farm-haystack==1.4.1rc0) (0.4)\n",
            "Requirement already satisfied: Flask in /usr/local/lib/python3.7/dist-packages (from mlflow->farm-haystack==1.4.1rc0) (1.1.4)\n",
            "Requirement already satisfied: alembic in /usr/local/lib/python3.7/dist-packages (from mlflow->farm-haystack==1.4.1rc0) (1.7.7)\n",
            "Requirement already satisfied: databricks-cli>=0.8.7 in /usr/local/lib/python3.7/dist-packages (from mlflow->farm-haystack==1.4.1rc0) (0.16.6)\n",
            "Requirement already satisfied: querystring-parser in /usr/local/lib/python3.7/dist-packages (from mlflow->farm-haystack==1.4.1rc0) (1.2.4)\n",
            "Requirement already satisfied: gunicorn in /usr/local/lib/python3.7/dist-packages (from mlflow->farm-haystack==1.4.1rc0) (20.1.0)\n",
            "Requirement already satisfied: gitpython>=2.1.0 in /usr/local/lib/python3.7/dist-packages (from mlflow->farm-haystack==1.4.1rc0) (3.1.27)\n",
            "Requirement already satisfied: sqlparse>=0.3.1 in /usr/local/lib/python3.7/dist-packages (from mlflow->farm-haystack==1.4.1rc0) (0.4.2)\n",
            "Requirement already satisfied: sqlalchemy in /usr/local/lib/python3.7/dist-packages (from mlflow->farm-haystack==1.4.1rc0) (1.4.36)\n",
            "Requirement already satisfied: prometheus-flask-exporter in /usr/local/lib/python3.7/dist-packages (from mlflow->farm-haystack==1.4.1rc0) (0.20.1)\n",
            "Requirement already satisfied: docker>=4.0.0 in /usr/local/lib/python3.7/dist-packages (from mlflow->farm-haystack==1.4.1rc0) (5.0.3)\n",
            "Requirement already satisfied: click>=7.0 in /usr/local/lib/python3.7/dist-packages (from mlflow->farm-haystack==1.4.1rc0) (7.1.2)\n",
            "Requirement already satisfied: pytz in /usr/local/lib/python3.7/dist-packages (from mlflow->farm-haystack==1.4.1rc0) (2022.1)\n",
            "Requirement already satisfied: python-dateutil>=2.7.3 in /usr/local/lib/python3.7/dist-packages (from pandas->farm-haystack==1.4.1rc0) (2.8.2)\n",
            "Requirement already satisfied: backoff<2.0.0,>=1.10.0 in /usr/local/lib/python3.7/dist-packages (from posthog->farm-haystack==1.4.1rc0) (1.11.1)\n",
            "Requirement already satisfied: monotonic>=1.5 in /usr/local/lib/python3.7/dist-packages (from posthog->farm-haystack==1.4.1rc0) (1.6)\n",
            "Requirement already satisfied: lxml>=2.3.2 in /usr/local/lib/python3.7/dist-packages (from python-docx->farm-haystack==1.4.1rc0) (4.2.6)\n",
            "Requirement already satisfied: num2words in /usr/local/lib/python3.7/dist-packages (from quantulum3->farm-haystack==1.4.1rc0) (0.5.10)\n",
            "Requirement already satisfied: inflect in /usr/local/lib/python3.7/dist-packages (from quantulum3->farm-haystack==1.4.1rc0) (2.1.0)\n",
            "Requirement already satisfied: jarowinkler<1.1.0,>=1.0.2 in /usr/local/lib/python3.7/dist-packages (from rapidfuzz->farm-haystack==1.4.1rc0) (1.0.2)\n",
            "Requirement already satisfied: setuptools in /usr/local/lib/python3.7/dist-packages (from tika->farm-haystack==1.4.1rc0) (57.4.0)\n",
            "Requirement already satisfied: oauthlib>=3.1.0 in /usr/local/lib/python3.7/dist-packages (from databricks-cli>=0.8.7->mlflow->farm-haystack==1.4.1rc0) (3.2.0)\n",
            "Requirement already satisfied: tabulate>=0.7.7 in /usr/local/lib/python3.7/dist-packages (from databricks-cli>=0.8.7->mlflow->farm-haystack==1.4.1rc0) (0.8.9)\n",
            "Requirement already satisfied: pyjwt>=1.7.0 in /usr/local/lib/python3.7/dist-packages (from databricks-cli>=0.8.7->mlflow->farm-haystack==1.4.1rc0) (2.4.0)\n",
            "Requirement already satisfied: websocket-client>=0.32.0 in /usr/local/lib/python3.7/dist-packages (from docker>=4.0.0->mlflow->farm-haystack==1.4.1rc0) (1.3.2)\n",
            "Requirement already satisfied: gitdb<5,>=4.0.1 in /usr/local/lib/python3.7/dist-packages (from gitpython>=2.1.0->mlflow->farm-haystack==1.4.1rc0) (4.0.9)\n",
            "Requirement already satisfied: isodate>=0.6.0 in /usr/local/lib/python3.7/dist-packages (from msrest>=0.6.21->azure-ai-formrecognizer==3.2.0b2->farm-haystack==1.4.1rc0) (0.6.1)\n",
            "Requirement already satisfied: requests-oauthlib>=0.5.0 in /usr/local/lib/python3.7/dist-packages (from msrest>=0.6.21->azure-ai-formrecognizer==3.2.0b2->farm-haystack==1.4.1rc0) (1.3.1)\n",
            "Requirement already satisfied: pyparsing!=3.0.5,>=2.0.2 in /usr/local/lib/python3.7/dist-packages (from packaging>=20.0->transformers==4.19.2->farm-haystack==1.4.1rc0) (3.0.9)\n",
            "Requirement already satisfied: Mako in /usr/local/lib/python3.7/dist-packages (from alembic->mlflow->farm-haystack==1.4.1rc0) (1.2.0)\n",
            "Requirement already satisfied: greenlet!=0.4.17 in /usr/local/lib/python3.7/dist-packages (from sqlalchemy->mlflow->farm-haystack==1.4.1rc0) (1.1.2)\n",
            "Requirement already satisfied: Werkzeug<2.0,>=0.15 in /usr/local/lib/python3.7/dist-packages (from Flask->mlflow->farm-haystack==1.4.1rc0) (1.0.1)\n",
            "Requirement already satisfied: Jinja2<3.0,>=2.10.1 in /usr/local/lib/python3.7/dist-packages (from Flask->mlflow->farm-haystack==1.4.1rc0) (2.11.3)\n",
            "Requirement already satisfied: itsdangerous<2.0,>=0.24 in /usr/local/lib/python3.7/dist-packages (from Flask->mlflow->farm-haystack==1.4.1rc0) (1.1.0)\n",
            "Requirement already satisfied: docopt>=0.6.2 in /usr/local/lib/python3.7/dist-packages (from num2words->quantulum3->farm-haystack==1.4.1rc0) (0.6.2)\n",
            "Requirement already satisfied: prometheus-client in /usr/local/lib/python3.7/dist-packages (from prometheus-flask-exporter->mlflow->farm-haystack==1.4.1rc0) (0.14.1)\n",
            "Requirement already satisfied: pillow!=8.3.*,>=5.3.0 in /usr/local/lib/python3.7/dist-packages (from torchvision->sentence-transformers>=2.2.0->farm-haystack==1.4.1rc0) (7.1.2)\n",
            "Requirement already satisfied: smmap<6,>=3.0.1 in /usr/local/lib/python3.7/dist-packages (from gitdb<5,>=4.0.1->gitpython>=2.1.0->mlflow->farm-haystack==1.4.1rc0) (5.0.0)\n",
            "Requirement already satisfied: MarkupSafe>=0.23 in /usr/local/lib/python3.7/dist-packages (from Jinja2<3.0,>=2.10.1->Flask->mlflow->farm-haystack==1.4.1rc0) (2.0.1)\n",
            "\u001b[33mWARNING: Running pip as the 'root' user can result in broken permissions and conflicting behaviour with the system package manager. It is recommended to use a virtual environment instead: https://pip.pypa.io/warnings/venv\u001b[0m\u001b[33m\n",
            "\u001b[0m"
          ]
        },
        {
          "output_type": "stream",
          "name": "stderr",
          "text": [
            "INFO - haystack.modeling.utils -  Using devices: CUDA:0\n",
            "INFO - haystack.modeling.utils -  Number of GPUs: 1\n",
            "INFO - haystack.nodes.retriever.dense -  Init retriever using embeddings of model sentence-transformers/all-MiniLM-L6-v2\n",
            "WARNING - haystack.nodes.retriever.dense -  You seem to be using a Sentence Transformer embedding model but 'model_format' is set to 'farm'. You may need to set 'model_format='sentence_transformers' to ensure correct loading of model.\n",
            "INFO - haystack.modeling.utils -  Using devices: CUDA\n",
            "INFO - haystack.modeling.utils -  Number of GPUs: 1\n",
            "INFO - haystack.modeling.model.language_model -  LOADING MODEL\n",
            "INFO - haystack.modeling.model.language_model -  =============\n",
            "INFO - haystack.modeling.model.language_model -  Could not find sentence-transformers/all-MiniLM-L6-v2 locally.\n",
            "INFO - haystack.modeling.model.language_model -  Looking on Transformers Model Hub (in local cache and online)...\n",
            "INFO - haystack.modeling.model.language_model -  Loaded sentence-transformers/all-MiniLM-L6-v2\n",
            "INFO - haystack.modeling.data_handler.processor -  Initialized processor without tasks. Supply `metric` and `label_list` to the constructor for using the default task or add a custom task later via processor.add_task()\n",
            "INFO - haystack.modeling.utils -  Using devices: CUDA\n",
            "INFO - haystack.modeling.utils -  Number of GPUs: 1\n",
            "WARNING - haystack.nodes.retriever._embedding_encoder -  You seem to be using a Sentence Transformer with the dot_product function. We recommend using cosine instead. This can be set when initializing the DocumentStore\n"
          ]
        }
      ],
      "source": [
        "!pip install --upgrade pip # Install the latest master of Haystack\n",
        "!pip install git+https://github.com/deepset-ai/haystack.git\n",
        "from haystack.document_stores import ElasticsearchDocumentStore\n",
        "from haystack.nodes import EmbeddingRetriever\n",
        "import pandas as pd\n",
        "import requests\n",
        "! wget https://artifacts.elastic.co/downloads/elasticsearch/elasticsearch-7.9.2-linux-x86_64.tar.gz -q # start Elasticsearch server from source\n",
        "! tar -xzf elasticsearch-7.9.2-linux-x86_64.tar.gz\n",
        "! chown -R daemon:daemon elasticsearch-7.9.2\n",
        "import os\n",
        "from subprocess import Popen, PIPE, STDOUT\n",
        "es_server = Popen(\n",
        "    [\"elasticsearch-7.9.2/bin/elasticsearch\"], stdout=PIPE, stderr=STDOUT, preexec_fn=lambda: os.setuid(1)  # as daemon\n",
        ")\n",
        "! sleep 30 # wait until ES has started\n",
        "from haystack.document_stores import ElasticsearchDocumentStore\n",
        "document_store = ElasticsearchDocumentStore( # init the DocumentStore\n",
        "    host=\"localhost\",\n",
        "    username=\"\",\n",
        "    password=\"\",\n",
        "    index=\"document\",\n",
        "    embedding_field=\"question_emb\", # here the embedding of our question is stored and that is used later for calculating our similarity to the incoming user question\n",
        "    embedding_dim=384,\n",
        "    excluded_meta_data=[\"question_emb\"], # so that we don't return the huge embedding vectors in our search results\n",
        ") \n",
        "retriever = EmbeddingRetriever( # we can use the EmbeddingRetriever for this purpose and specify a model that we use for the embeddings.\n",
        "    document_store=document_store, embedding_model=\"sentence-transformers/all-MiniLM-L6-v2\", use_gpu=True #instead of retrieving via Elasticsearch's plain BM25, we want to use vector similarity of the questions (user question vs. FAQ ones).\n",
        ")"
      ]
    },
    {
      "cell_type": "code",
      "source": [
        "doc_dir = \"/content/\" \n",
        "df = pd.read_excel(f\"{doc_dir}/SearchAutofill.xlsm\", header=None) # create a pandas dataframe containing our bots FAQ data\n",
        "df = df.rename(columns={0: 'question', 1: 'answer'})\n",
        "df.fillna(value=\"\", inplace=True)\n",
        "df['question'] = df['question'].apply(lambda x: x.strip())\n",
        "questions = list(df['question'].values) # get embeddings for our questions from the FAQs\n",
        "df[\"question_emb\"] = retriever.embed_queries(texts=questions)\n",
        "df = df.rename(columns={'question': \"content\"})\n",
        "print(df.head())"
      ],
      "metadata": {
        "colab": {
          "base_uri": "https://localhost:8080/"
        },
        "id": "1kQFPA-Hg8tq",
        "outputId": "c3d4c095-a4a0-4c4d-907d-1fab7909d8bf"
      },
      "execution_count": 35,
      "outputs": [
        {
          "output_type": "stream",
          "name": "stderr",
          "text": [
            "Inferencing Samples: 100%|██████████| 11/11 [00:02<00:00,  4.10 Batches/s]"
          ]
        },
        {
          "output_type": "stream",
          "name": "stdout",
          "text": [
            "                  content                answer  \\\n",
            "0  accruals and deferrals          Abgrenzungen   \n",
            "1            depreciation        Abschreibungen   \n",
            "2   reconciliation bridge         Abstimmbrücke   \n",
            "3          reconciliation  Abstimmung, Abgleich   \n",
            "4                variance            Abweichung   \n",
            "\n",
            "                                                                      question_emb  \n",
            "0  [-0.6159873008728027, -0.27220212088690865, 0.022060438990592957, -0.1667093...  \n",
            "1  [-0.26343029737472534, 0.5312923192977905, 0.33144572377204895, -0.128729134...  \n",
            "2  [-0.7546553611755371, 0.6393743753433228, -0.0718823770682017, -0.1193267405...  \n",
            "3  [-0.7285127639770508, 0.9149800539016724, 0.15480560064315796, -0.0416017398...  \n",
            "4  [0.8309152126312256, 0.3147714138031006, 0.16317422688007355, 0.251116096973...  \n"
          ]
        },
        {
          "output_type": "stream",
          "name": "stderr",
          "text": [
            "\n"
          ]
        }
      ]
    },
    {
      "cell_type": "code",
      "source": [
        "docs_to_index = df.to_dict(orient=\"records\") # convert dataframe to list of dicts and index them in documentStore in Elasticsearch\n",
        "document_store.write_documents(docs_to_index)\n",
        "from haystack.pipelines import FAQPipeline #initialize a pipeline and ask questions\n",
        "pipe = FAQPipeline(retriever=retriever) \n",
        "from haystack.utils import print_answers\n",
        "prediction = pipe.run(query=\"What does absorption costing mean in German?\", params={\"Retriever\": {\"top_k\": 3}})\n",
        "print_answers(prediction, details=\"medium\")"
      ],
      "metadata": {
        "colab": {
          "base_uri": "https://localhost:8080/"
        },
        "id": "njqXkrU_KJVS",
        "outputId": "9d3de503-1d2a-4965-da97-79a860309683"
      },
      "execution_count": 36,
      "outputs": [
        {
          "output_type": "stream",
          "name": "stderr",
          "text": [
            "Inferencing Samples: 100%|██████████| 1/1 [00:00<00:00, 80.60 Batches/s]"
          ]
        },
        {
          "output_type": "stream",
          "name": "stdout",
          "text": [
            "\n",
            "Query: What does absorption costing mean in German?\n",
            "Answers:\n",
            "[   {   'answer': 'Vollkostenrechnung',\n",
            "        'context': 'Vollkostenrechnung',\n",
            "        'score': 0.6111562350718944},\n",
            "    {   'answer': 'Deckungsbeitragsrechnung (einstufig)',\n",
            "        'context': 'Deckungsbeitragsrechnung (einstufig)',\n",
            "        'score': 0.5802788008848704},\n",
            "    {   'answer': 'Standardkostenrechnung',\n",
            "        'context': 'Standardkostenrechnung',\n",
            "        'score': 0.5791112368966103}]\n"
          ]
        },
        {
          "output_type": "stream",
          "name": "stderr",
          "text": [
            "\n"
          ]
        }
      ]
    },
    {
      "cell_type": "code",
      "source": [
        "docs_to_index = df.to_dict(orient=\"records\") # convert dataframe to list of dicts and index them in documentStore in Elasticsearch\n",
        "document_store.write_documents(docs_to_index)\n",
        "from haystack.pipelines import FAQPipeline #initialize a pipeline and ask questions\n",
        "pipe = FAQPipeline(retriever=retriever) \n",
        "from haystack.utils import print_answers\n",
        "prediction = pipe.run(query=\"What does absorption mean in German?\", params={\"Retriever\": {\"top_k\": 3}})\n",
        "print_answers(prediction, details=\"medium\")"
      ],
      "metadata": {
        "id": "RM4YjMvOkJX0",
        "colab": {
          "base_uri": "https://localhost:8080/"
        },
        "outputId": "a3908661-7466-4314-e618-e90e1204c951"
      },
      "execution_count": 37,
      "outputs": [
        {
          "output_type": "stream",
          "name": "stderr",
          "text": [
            "Inferencing Samples: 100%|██████████| 1/1 [00:00<00:00, 51.53 Batches/s]"
          ]
        },
        {
          "output_type": "stream",
          "name": "stdout",
          "text": [
            "\n",
            "Query: What does absorption mean in German?\n",
            "Answers:\n",
            "[   {   'answer': 'Vollkostenrechnung',\n",
            "        'context': 'Vollkostenrechnung',\n",
            "        'score': 0.5663206497356694},\n",
            "    {'answer': 'Tilgung', 'context': 'Tilgung', 'score': 0.5365138813353966},\n",
            "    {'answer': 'Vermögen', 'context': 'Vermögen', 'score': 0.5360844069058252}]\n"
          ]
        },
        {
          "output_type": "stream",
          "name": "stderr",
          "text": [
            "\n"
          ]
        }
      ]
    },
    {
      "cell_type": "code",
      "execution_count": 38,
      "metadata": {
        "pycharm": {
          "name": "#%%\n"
        },
        "id": "4mJQ8PuafJhc",
        "colab": {
          "base_uri": "https://localhost:8080/"
        },
        "outputId": "003d75ac-b507-4689-e06e-1b13ad0fc021"
      },
      "outputs": [
        {
          "output_type": "stream",
          "name": "stderr",
          "text": [
            "Inferencing Samples: 100%|██████████| 1/1 [00:00<00:00, 64.20 Batches/s]"
          ]
        },
        {
          "output_type": "stream",
          "name": "stdout",
          "text": [
            "\n",
            "Query: What are accruals?\n",
            "Answers:\n",
            "[   <Answer {'answer': 'Rückstellungen', 'type': 'other', 'score': 0.6129861828861322, 'context': 'Rückstellungen', 'offsets_in_document': None, 'offsets_in_context': [{'start': 0, 'end': 14}], 'document_id': 'd8dd4582c851b70968837d0ddc24b010', 'meta': {'answer': 'Rückstellungen', 'query': 'accruals'}}>,\n",
            "    <Answer {'answer': 'Rabatt', 'type': 'other', 'score': 0.5722656545690049, 'context': 'Rabatt', 'offsets_in_document': None, 'offsets_in_context': [{'start': 0, 'end': 6}], 'document_id': '9bf6c46ce95bdab52a72ab1bf7333f8c', 'meta': {'answer': 'Rabatt', 'query': 'allowance'}}>,\n",
            "    <Answer {'answer': 'Abgrenzungen', 'type': 'other', 'score': 0.5675899718102981, 'context': 'Abgrenzungen', 'offsets_in_document': None, 'offsets_in_context': [{'start': 0, 'end': 12}], 'document_id': '6251dfe668dd12ac323b626bf66d010d', 'meta': {'answer': 'Abgrenzungen', 'query': 'accruals and deferrals'}}>]\n"
          ]
        },
        {
          "output_type": "stream",
          "name": "stderr",
          "text": [
            "\n"
          ]
        }
      ],
      "source": [
        "from haystack.utils import print_answers\n",
        "prediction = pipe.run(query=\"What are accruals?\", params={\"Retriever\": {\"top_k\": 3}})\n",
        "print_answers(prediction, details=\"all\")"
      ]
    },
    {
      "cell_type": "code",
      "source": [
        "from haystack.utils import print_answers\n",
        "prediction = pipe.run(query=\"accruals?\", params={\"Retriever\": {\"top_k\": 3}})\n",
        "print_answers(prediction, details=\"minimum\")"
      ],
      "metadata": {
        "colab": {
          "base_uri": "https://localhost:8080/"
        },
        "id": "vPwxY68AVljH",
        "outputId": "faf226ac-ae7e-4283-c02a-1bd0076db681"
      },
      "execution_count": 39,
      "outputs": [
        {
          "output_type": "stream",
          "name": "stderr",
          "text": [
            "Inferencing Samples: 100%|██████████| 1/1 [00:00<00:00, 63.38 Batches/s]"
          ]
        },
        {
          "output_type": "stream",
          "name": "stdout",
          "text": [
            "\n",
            "Query: accruals?\n",
            "Answers:\n",
            "[   {'answer': 'Rückstellungen', 'context': 'Rückstellungen'},\n",
            "    {'answer': 'Rabatt', 'context': 'Rabatt'},\n",
            "    {'answer': 'Rückstellungen', 'context': 'Rückstellungen'}]\n"
          ]
        },
        {
          "output_type": "stream",
          "name": "stderr",
          "text": [
            "\n"
          ]
        }
      ]
    },
    {
      "cell_type": "code",
      "source": [
        "from haystack.utils import print_answers\n",
        "prediction = pipe.run(query=\"absorption\", params={\"Retriever\": {\"top_k\": 10}})\n",
        "print_answers(prediction, details=\"all\")"
      ],
      "metadata": {
        "colab": {
          "base_uri": "https://localhost:8080/"
        },
        "id": "i199b9jjN_OL",
        "outputId": "1d775bf4-eca8-4f81-f540-1a939363e984"
      },
      "execution_count": 40,
      "outputs": [
        {
          "output_type": "stream",
          "name": "stderr",
          "text": [
            "Inferencing Samples: 100%|██████████| 1/1 [00:00<00:00, 62.09 Batches/s]"
          ]
        },
        {
          "output_type": "stream",
          "name": "stdout",
          "text": [
            "\n",
            "Query: absorption\n",
            "Answers:\n",
            "[   <Answer {'answer': 'Vollkostenrechnung', 'type': 'other', 'score': 0.6366829641277999, 'context': 'Vollkostenrechnung', 'offsets_in_document': None, 'offsets_in_context': [{'start': 0, 'end': 18}], 'document_id': '9b15365319e1aca795c3c1488e546b59', 'meta': {'answer': 'Vollkostenrechnung', 'query': 'absorption costing'}}>,\n",
            "    <Answer {'answer': 'Vermögen', 'type': 'other', 'score': 0.5736674016988692, 'context': 'Vermögen', 'offsets_in_document': None, 'offsets_in_context': [{'start': 0, 'end': 8}], 'document_id': '6880d5e9de935ca7ce70de479620a022', 'meta': {'answer': 'Vermögen', 'query': 'assets'}}>,\n",
            "    <Answer {'answer': 'Eigenkapital', 'type': 'other', 'score': 0.5709296241155433, 'context': 'Eigenkapital', 'offsets_in_document': None, 'offsets_in_context': [{'start': 0, 'end': 12}], 'document_id': 'bbe5b89c14a41f56230b495a1bb0c4ae', 'meta': {'answer': 'Eigenkapital', 'query': 'equity'}}>,\n",
            "    <Answer {'answer': 'Tilgung', 'type': 'other', 'score': 0.5690928587859905, 'context': 'Tilgung', 'offsets_in_document': None, 'offsets_in_context': [{'start': 0, 'end': 7}], 'document_id': '35d6567e6e68618d4328cfd111a9c488', 'meta': {'answer': 'Tilgung', 'query': 'amortisation'}}>,\n",
            "    <Answer {'answer': 'Beschäftigung', 'type': 'other', 'score': 0.5675163408391221, 'context': 'Beschäftigung', 'offsets_in_document': None, 'offsets_in_context': [{'start': 0, 'end': 13}], 'document_id': '6cab57179afad744f940613b530750dc', 'meta': {'answer': 'Beschäftigung', 'query': 'activity'}}>,\n",
            "    <Answer {'answer': 'Rückstellungen', 'type': 'other', 'score': 0.5650072011795899, 'context': 'Rückstellungen', 'offsets_in_document': None, 'offsets_in_context': [{'start': 0, 'end': 14}], 'document_id': 'd8dd4582c851b70968837d0ddc24b010', 'meta': {'answer': 'Rückstellungen', 'query': 'accruals'}}>,\n",
            "    <Answer {'answer': 'Material-Gemeinkosten', 'type': 'other', 'score': 0.560832155750552, 'context': 'Material-Gemeinkosten', 'offsets_in_document': None, 'offsets_in_context': [{'start': 0, 'end': 21}], 'document_id': 'ccf1e0017741ef76b77078be5296ada7', 'meta': {'answer': 'Material-Gemeinkosten', 'query': 'material overheads'}}>,\n",
            "    <Answer {'answer': 'Vision', 'type': 'other', 'score': 0.5549059421515073, 'context': 'Vision', 'offsets_in_document': None, 'offsets_in_context': [{'start': 0, 'end': 6}], 'document_id': 'aa5cca4e17ea2b7e3ccbd33b1d72527', 'meta': {'answer': 'Vision', 'query': 'vision'}}>,\n",
            "    <Answer {'answer': 'Betriebsnotwendiges Vermögen', 'type': 'other', 'score': 0.5543769857595243, 'context': 'Betriebsnotwendiges Vermögen', 'offsets_in_document': None, 'offsets_in_context': [{'start': 0, 'end': 28}], 'document_id': 'dbdc1b556290d600f73d5e4a2d380ffb', 'meta': {'answer': 'Betriebsnotwendiges Vermögen', 'query': 'operating assets'}}>,\n",
            "    <Answer {'answer': 'Konsolidierte Rechnung', 'type': 'other', 'score': 0.5525346396633622, 'context': 'Konsolidierte Rechnung', 'offsets_in_document': None, 'offsets_in_context': [{'start': 0, 'end': 22}], 'document_id': '55eac3be58950429e2cc6a8c6d114c64', 'meta': {'answer': 'Konsolidierte Rechnung', 'query': 'consolidated statement'}}>]\n"
          ]
        },
        {
          "output_type": "stream",
          "name": "stderr",
          "text": [
            "\n"
          ]
        }
      ]
    }
  ],
  "metadata": {
    "kernelspec": {
      "display_name": "Python 3",
      "language": "python",
      "name": "python3"
    },
    "language_info": {
      "codemirror_mode": {
        "name": "ipython",
        "version": 3
      },
      "file_extension": ".py",
      "mimetype": "text/x-python",
      "name": "python",
      "nbconvert_exporter": "python",
      "pygments_lexer": "ipython3",
      "version": "3.7.6"
    },
    "colab": {
      "name": "HaystackSearchTranslator.ipynb",
      "provenance": [],
      "collapsed_sections": []
    },
    "accelerator": "GPU"
  },
  "nbformat": 4,
  "nbformat_minor": 0
}